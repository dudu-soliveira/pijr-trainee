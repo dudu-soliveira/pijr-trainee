{
 "cells": [
  {
   "cell_type": "markdown",
   "metadata": {},
   "source": [
    "# <font color='00aaff'> **Processo Seletivo Pi Júnior 2024/2** </font>\n",
    "\n",
    "## **Trabalho Prático - Python**\n"
   ]
  },
  {
   "cell_type": "markdown",
   "metadata": {},
   "source": [
    "Olá, trainee! Parabéns por chegar até aqui. Nesse notebook será realizado o desafio envolvendo todo o conteúdo de python que vocês aprenderam.\n",
    "\n",
    "Primeiramente, recomendamos que assistam a todas as aulas de python disponibilizadas, além de dar uma olhada nos Notebook de cada uma.\n",
    "\n",
    "_Atenção: A organização e legibilidade do seu código serão avaliadas, logo, certifique-se de seguir as boas práticas da programação._\n"
   ]
  },
  {
   "cell_type": "markdown",
   "metadata": {},
   "source": [
    "## **Web Scraping**\n"
   ]
  },
  {
   "cell_type": "markdown",
   "metadata": {},
   "source": [
    "Nesta seção, iremos coletar os dados do site <a href='https://books.toscrape.com'>**books to scrape**</a>. Nele podemos encontrar diversos livros diferentes, sendo que cada livro possui uma página separada com informações detalhadas da obra escolhida.\n"
   ]
  },
  {
   "cell_type": "markdown",
   "metadata": {},
   "source": [
    "### **Exercício**\n"
   ]
  },
  {
   "cell_type": "markdown",
   "metadata": {},
   "source": [
    "**O seu desafio será iterar entre as 10 primeiras páginas do site, pegar os links de todos os livros de cada página e, para cada um, coletar os seguintes dados:**\n",
    "\n",
    "- `Título`\n",
    "\n",
    "- `Descrição`\n",
    "\n",
    "- `Categoria`\n",
    "\n",
    "- `Preço`\n",
    "\n",
    "- `Avaliação`\n",
    "\n",
    "_Obs: Os dados coletados serão usados na próxima seção, portanto, garanta que estejam armazenados, seja em uma lista, dicionário ou qualquer outra estrutura de dados que considerar adequada._\n"
   ]
  },
  {
   "cell_type": "markdown",
   "metadata": {},
   "source": [
    "Url do site: https://books.toscrape.com\n"
   ]
  },
  {
   "cell_type": "code",
   "execution_count": null,
   "metadata": {},
   "outputs": [],
   "source": [
    "# Implemente o código a partir daqui"
   ]
  },
  {
   "cell_type": "markdown",
   "metadata": {},
   "source": [
    "## **Ciência de Dados**\n"
   ]
  },
  {
   "cell_type": "markdown",
   "metadata": {},
   "source": [
    "Agora que você já coletou os dados do site <a href='https://books.toscrape.com'>**books to scrape**</a>, vamos explorar e manipular essa base de dados para obter insights sobre os livros.\n"
   ]
  },
  {
   "cell_type": "markdown",
   "metadata": {},
   "source": [
    "### **Exercícios**\n"
   ]
  },
  {
   "cell_type": "markdown",
   "metadata": {},
   "source": [
    "#### **1: Criação e Limpeza do DataFrame**\n",
    "\n",
    "Transforme os dados coletados da seção anterior em um **DataFrame do Pandas** e realize os seguintes procedimentos de limpeza:\n",
    "\n",
    "- Crie um DataFrame a partir dos dados coletados, garantindo que as colunas representem corretamente as informações: `Título`, `Descrição`, `Categoria`, `Preço`, `Avaliação`.\n",
    "- Remova ou trate quaisquer dados ausentes (se houver).\n",
    "- Converta a coluna de **Avaliação** para o tipo inteiro.\n",
    "- Converta a coluna de **Preço** para o tipo numérico (float).\n",
    "- Verifique se há duplicatas no DataFrame e remova-as, se necessário.\n"
   ]
  },
  {
   "cell_type": "code",
   "execution_count": null,
   "metadata": {},
   "outputs": [],
   "source": [
    "# Implemente o código a partir daqui"
   ]
  },
  {
   "cell_type": "markdown",
   "metadata": {},
   "source": [
    "#### **2: Análise de Categoria**\n",
    "\n",
    "Quantos livros pertencem a cada **categoria**?\n",
    "\n",
    "- **Objetivo**: Criar uma visualização gráfica para mostrar a quantidade de livros por categoria.\n"
   ]
  },
  {
   "cell_type": "code",
   "execution_count": null,
   "metadata": {},
   "outputs": [],
   "source": [
    "# Implemente o código a partir daqui"
   ]
  },
  {
   "cell_type": "markdown",
   "metadata": {},
   "source": [
    "#### **3: Análise de Preços**\n",
    "\n",
    "Responda às seguintes perguntas sobre os preços dos livros:\n",
    "\n",
    "- Qual é o livro mais caro? E o mais barato?\n",
    "- Qual é o **preço médio** dos livros?\n"
   ]
  },
  {
   "cell_type": "code",
   "execution_count": null,
   "metadata": {},
   "outputs": [],
   "source": [
    "# Implemente o código a partir daqui"
   ]
  },
  {
   "cell_type": "markdown",
   "metadata": {},
   "source": [
    "#### **4: Relação entre Avaliação e Preço**\n",
    "\n",
    "Existe alguma relação entre o **preço** dos livros e suas **avaliações**?\n",
    "\n",
    "- **Objetivo**: Crie um gráfico de dispersão para visualizar a relação entre as duas variáveis e comente sobre o padrão observado.\n"
   ]
  },
  {
   "cell_type": "code",
   "execution_count": null,
   "metadata": {},
   "outputs": [],
   "source": [
    "# Implemente o código a partir daqui"
   ]
  },
  {
   "cell_type": "markdown",
   "metadata": {},
   "source": [
    "#### **5: Top 10 Livros**\n",
    "\n",
    "Liste os **mais bem avaliados** e seus respectivos preços.\n",
    "\n",
    "- **Objetivo**: Exibir os 10 livros com as maiores avaliações.\n"
   ]
  },
  {
   "cell_type": "code",
   "execution_count": null,
   "metadata": {},
   "outputs": [],
   "source": [
    "# Implemente o código a partir daqui"
   ]
  },
  {
   "cell_type": "markdown",
   "metadata": {},
   "source": [
    "#### **6: Comparação de Preços por Categoria**\n",
    "\n",
    "Qual é a **categoria mais cara** em termos de preço médio dos livros?\n",
    "\n",
    "- **Objetivo**: Agrupar os livros por categoria e calcular o preço médio de cada categoria, e então determinar a categoria com o maior preço médio.\n"
   ]
  },
  {
   "cell_type": "code",
   "execution_count": null,
   "metadata": {},
   "outputs": [],
   "source": [
    "# Implemente o código a partir daqui"
   ]
  },
  {
   "cell_type": "markdown",
   "metadata": {},
   "source": [
    "#### **7: Distribuição de Avaliações**\n",
    "\n",
    "Visualize a distribuição das **avaliações** dos livros no site.\n",
    "\n",
    "- **Objetivo**: Criar um histograma que mostre a frequência de cada nível de avaliação (1 a 5 estrelas).\n"
   ]
  },
  {
   "cell_type": "code",
   "execution_count": null,
   "metadata": {},
   "outputs": [],
   "source": [
    "# Implemente o código a partir daqui"
   ]
  },
  {
   "cell_type": "markdown",
   "metadata": {},
   "source": [
    "#### **8: Top 5 Categorias Mais Populares**\n",
    "\n",
    "Quais são as **5 categorias** com o maior número de livros disponíveis?\n",
    "\n",
    "- **Objetivo**: Contar o número de livros em cada categoria e listar as 5 categorias mais populares.\n"
   ]
  },
  {
   "cell_type": "code",
   "execution_count": null,
   "metadata": {},
   "outputs": [],
   "source": [
    "# Implemente o código a partir daqui"
   ]
  },
  {
   "cell_type": "markdown",
   "metadata": {},
   "source": [
    "#### **9: Livro com Melhor Custo-Benefício**\n",
    "\n",
    "Defina o livro com **melhor custo-benefício** como aquele com a maior avaliação em relação ao preço.\n",
    "\n",
    "- **Objetivo**: Criar uma nova coluna que calcule a relação entre **avaliação** e **preço** e encontrar o livro com a maior relação.\n"
   ]
  },
  {
   "cell_type": "code",
   "execution_count": null,
   "metadata": {},
   "outputs": [],
   "source": [
    "# Implemente o código a partir daqui"
   ]
  },
  {
   "cell_type": "markdown",
   "metadata": {},
   "source": [
    "#### **10: Livros com Descrição mais Longa**\n",
    "\n",
    "Encontre os **3 livros com a descrição mais longa**.\n",
    "\n",
    "- **Objetivo**: Criar uma nova coluna com o comprimento das descrições e ordenar os livros com base nessa coluna.\n"
   ]
  },
  {
   "cell_type": "code",
   "execution_count": null,
   "metadata": {},
   "outputs": [],
   "source": [
    "# Implemente o código a partir daqui"
   ]
  },
  {
   "cell_type": "markdown",
   "metadata": {},
   "source": [
    "#### **Extra: Criação de Novas Visualizações**\n",
    "\n",
    "Agora que você já explorou os dados coletados, crie **mais visualizações** que você considere relevantes e interessantes. Use diferentes tipos de gráficos para apresentar insights novos ou complementares sobre os livros.\n",
    "\n",
    "Sinta-se à vontade para explorar outros tipos de gráficos que ajudem a destacar padrões ou tendências nos dados.\n"
   ]
  },
  {
   "cell_type": "code",
   "execution_count": null,
   "metadata": {},
   "outputs": [],
   "source": [
    "# Implemente o código a partir daqui"
   ]
  }
 ],
 "metadata": {
  "language_info": {
   "name": "python"
  }
 },
 "nbformat": 4,
 "nbformat_minor": 2
}
