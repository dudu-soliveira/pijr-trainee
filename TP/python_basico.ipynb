{
  "cells": [
    {
      "cell_type": "markdown",
      "metadata": {},
      "source": [
        "# <font color='00aaff'> **Processo Seletivo Pi Júnior 2024/2** </font>\n",
        "\n",
        "## **Python Básico**\n"
      ]
    },
    {
      "cell_type": "markdown",
      "metadata": {
        "id": "4MYw_27xDoFU"
      },
      "source": [
        "Olá, trainee! Parabéns por chegar até aqui. Sabemos que alguns de vocês são calouros e possuem pouca experiência com programação no geral, então tudo sobre essa etapa será muito bem explicado e contextualizado.\n",
        "\n",
        "Primeiramente, recomendamos que assista a <a href='https://www.youtube.com/watch?v=5JSqbijaZrU'>**primeira aula de Python**</a> da trilha do conhecimento, além de dar uma olhada em seu <a href='https://colab.research.google.com/github/dudu-soliveira/pijr-trainee-2024-2/blob/main/aula_1/Aula_1.ipynb'>**Notebook**</a>.\n"
      ]
    },
    {
      "cell_type": "markdown",
      "metadata": {
        "id": "KLIrfiZuVe8o"
      },
      "source": [
        "## **Exercícios**\n"
      ]
    },
    {
      "cell_type": "markdown",
      "metadata": {
        "id": "wZZCxVejR6hR"
      },
      "source": [
        "### **1. Fórmula de Bhaskara**\n"
      ]
    },
    {
      "cell_type": "markdown",
      "metadata": {
        "id": "BDTw8eO6TBt6"
      },
      "source": [
        "A Fórmula de Bhaskara é um método resolutivo para equações do segundo grau utilizado para encontrar raízes a partir dos coeficientes da equação. As equações do segundo grau são escritas seguindo o seguinte padrão:\n",
        "\n",
        "$$ax^2 + bx + c = 0$$\n",
        "\n",
        "Já a fórmula em si é dada pela seguinte expressão: $$ x = \\frac{-b±\\sqrt{b^2-4ac}}{2a}$$\n"
      ]
    },
    {
      "cell_type": "markdown",
      "metadata": {
        "id": "IfTmTNQVSEsi"
      },
      "source": [
        "Implemente um código que calcule a Fórmula de Bhaskara, a partir da leitura de 3 valores de ponto flutuante (correspondentes respectivamente à $a$, $b$ e $c$) e efetuando o cálculo das raízes da equação de Bhaskara. Se não for possível calcular as raízes, mostre a mensagem correspondente “Impossivel calcular”, caso haja uma divisão por 0 ou raiz de número negativo.\n"
      ]
    },
    {
      "cell_type": "markdown",
      "metadata": {
        "id": "L6B-t5C-VSTF"
      },
      "source": [
        "_Observação: A parte de leitura dos 3 valores de ponto flutuante já está implementada, não precisa se preocupar com ela. Além disso, para calcular uma raíz quadrada, é necessário o uso de uma função chamada `sqrt` da biblioteca `math`, que foi importada no início do código. Para usar essa função, basta escrever `math.sqrt()` e colocar dentro dos parênteses o valor do qual será tirado a raíz quadrada._\n"
      ]
    },
    {
      "cell_type": "code",
      "execution_count": null,
      "metadata": {
        "id": "v66H4cDXU8jY"
      },
      "outputs": [],
      "source": [
        "import math\n",
        "\n",
        "a, b, c = [\n",
        "    float(x)\n",
        "    for x in input(\"Digite os valores de a, b e c separados por espaço: \")\n",
        "    .strip()\n",
        "    .split(\" \")\n",
        "]\n",
        "\n",
        "# implemente sua resolução aqui"
      ]
    },
    {
      "cell_type": "markdown",
      "metadata": {
        "id": "iezmtvjoX0mx"
      },
      "source": [
        "### **2. Distância entre dois pontos**\n"
      ]
    },
    {
      "cell_type": "markdown",
      "metadata": {
        "id": "b9cS06WWX5cT"
      },
      "source": [
        "Leia os quatro valores correspondentes aos eixos x e y de dois pontos quaisquer no plano, p1(x1,y1) e p2(x2,y2) e calcule a distância entre eles, segundo a fórmula:\n",
        "\n",
        "$$\\sqrt{(x2^2-x1^2)^2 + (y2^2-y1^2)^2}$$\n"
      ]
    },
    {
      "cell_type": "markdown",
      "metadata": {
        "id": "3ByyFGRpZDa4"
      },
      "source": [
        "_Observação: Assim como no primeiro exercício, a parte de leitura dos valores já está implementada, não precisa se preocupar com ela. Além disso, a biblioteca `math` foi importada novamente pelo mesmo motivo._\n"
      ]
    },
    {
      "cell_type": "code",
      "execution_count": null,
      "metadata": {
        "id": "CL_Uiv4_ZBbF"
      },
      "outputs": [],
      "source": [
        "import math\n",
        "\n",
        "x1, y1 = [\n",
        "    float(x)\n",
        "    for x in input(\"Insira os valores de x1 e y1 separados por um espaço: \").split(\" \")\n",
        "]\n",
        "x2, y2 = [\n",
        "    float(x)\n",
        "    for x in input(\"Insira os valores de x2 e y2 separados por um espaço: \").split(\" \")\n",
        "]\n",
        "\n",
        "# implemente sua resolução aqui"
      ]
    },
    {
      "cell_type": "markdown",
      "metadata": {
        "id": "A2T0dVwOaNTo"
      },
      "source": [
        "### **3. Adivinhe o número**\n"
      ]
    },
    {
      "cell_type": "markdown",
      "metadata": {
        "id": "kTJInjl9ezmh"
      },
      "source": [
        "Implemente em Python um jogo em que o computador escolhe aleatoriamente um número entre 1 e 100 e o jogador tenta adivinhar qual é esse número, recebendo dicas que indiquem se o número aleatório é maior ou menor do que o da tentativa do usuário, de forma que isso se repita até ele acertar.\n",
        "\n",
        "_Observação: A parte de obter um número aleatório entre 1 e 100 e atribuí-lo a uma variável já está feita, sendo essa variável chamada `número`._\n"
      ]
    },
    {
      "cell_type": "code",
      "execution_count": null,
      "metadata": {
        "id": "pi10LG-1acfy"
      },
      "outputs": [],
      "source": [
        "import random\n",
        "\n",
        "numero = random.randint(1, 100)\n",
        "\n",
        "# implemente sua resolução aqui"
      ]
    }
  ],
  "metadata": {
    "colab": {
      "provenance": []
    },
    "kernelspec": {
      "display_name": "Python 3",
      "name": "python3"
    },
    "language_info": {
      "name": "python"
    }
  },
  "nbformat": 4,
  "nbformat_minor": 0
}
