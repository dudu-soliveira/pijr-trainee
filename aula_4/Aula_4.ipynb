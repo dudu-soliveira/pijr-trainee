{
  "nbformat": 4,
  "nbformat_minor": 0,
  "metadata": {
    "colab": {
      "provenance": [],
      "collapsed_sections": [
        "aHw4KAqroUjM",
        "UyZv6ADrpTsb",
        "MEjjaZMoo-eb",
        "iwDw3pKxrtrA",
        "JCk5W4Cksbin",
        "TcDC4BcBs8Ft",
        "TzpWOrJXuFgE",
        "YSAtAbaS0gSc",
        "Z69p4zCI1Eky",
        "-0NJ0Nni1eVq",
        "5UY-iIVx3LOQ"
      ]
    },
    "kernelspec": {
      "name": "python3",
      "display_name": "Python 3"
    },
    "language_info": {
      "name": "python"
    }
  },
  "cells": [
    {
      "cell_type": "markdown",
      "source": [
        "# **Instalar as bibliotecas**"
      ],
      "metadata": {
        "id": "aHw4KAqroUjM"
      }
    },
    {
      "cell_type": "code",
      "execution_count": null,
      "metadata": {
        "id": "gjtWGElboNlE"
      },
      "outputs": [],
      "source": [
        "!pip install pandas"
      ]
    },
    {
      "cell_type": "code",
      "source": [
        "!pip install matplotlib"
      ],
      "metadata": {
        "id": "9810hrxLouN8"
      },
      "execution_count": null,
      "outputs": []
    },
    {
      "cell_type": "code",
      "source": [
        "!pip install plotly"
      ],
      "metadata": {
        "id": "0yFl3kM5ou8j"
      },
      "execution_count": null,
      "outputs": []
    },
    {
      "cell_type": "markdown",
      "source": [
        "# **Importar as bibliotecas**"
      ],
      "metadata": {
        "id": "UyZv6ADrpTsb"
      }
    },
    {
      "cell_type": "code",
      "source": [
        "import pandas as pd\n",
        "import matplotlib.pyplot as plt\n",
        "import plotly.express as px"
      ],
      "metadata": {
        "id": "GD-BI8ebpXba"
      },
      "execution_count": null,
      "outputs": []
    },
    {
      "cell_type": "markdown",
      "source": [
        "# **Importar dados**"
      ],
      "metadata": {
        "id": "MEjjaZMoo-eb"
      }
    },
    {
      "cell_type": "markdown",
      "source": [
        "**O arquivo csv está no drive junto da aula, para rodar essa célula é necessário upar o csv aqui no colab**"
      ],
      "metadata": {
        "id": "MlPYanDVXof1"
      }
    },
    {
      "cell_type": "code",
      "source": [
        "df = pd.read_csv('CopaDoMundo.csv')"
      ],
      "metadata": {
        "id": "C3LykceXpBz6"
      },
      "execution_count": null,
      "outputs": []
    },
    {
      "cell_type": "markdown",
      "source": [
        "# **Entender os dados**"
      ],
      "metadata": {
        "id": "iwDw3pKxrtrA"
      }
    },
    {
      "cell_type": "code",
      "source": [
        "df.columns"
      ],
      "metadata": {
        "id": "TLOxH4sgrxFY"
      },
      "execution_count": null,
      "outputs": []
    },
    {
      "cell_type": "code",
      "source": [
        "df.head()"
      ],
      "metadata": {
        "id": "ZcBnsrYOr5Qv"
      },
      "execution_count": null,
      "outputs": []
    },
    {
      "cell_type": "code",
      "source": [
        "df.describe()"
      ],
      "metadata": {
        "id": "mnWVQmg-sHWn"
      },
      "execution_count": null,
      "outputs": []
    },
    {
      "cell_type": "markdown",
      "source": [
        "# **Matplotlib**"
      ],
      "metadata": {
        "id": "JCk5W4Cksbin"
      }
    },
    {
      "cell_type": "markdown",
      "source": [
        "## **Propriedades**"
      ],
      "metadata": {
        "id": "TcDC4BcBs8Ft"
      }
    },
    {
      "cell_type": "code",
      "source": [
        "import numpy as np\n",
        "x = np.linspace(0, 10, 100)  # Valores de x de 0 a 10\n",
        "y = np.sin(x)                 # Valores de y como seno de x\n",
        "\n",
        "\n",
        "# Define o tamanho da figura do gráfico.\n",
        "plt.figure(figsize=(10, 6))\n",
        "\n",
        "\n",
        "# Plota os dados. Aqui, estamos usando:\n",
        "plt.plot(x, y,                # Dados a serem plotados\n",
        "         label='Seno',        # label: Nome para a legenda.\n",
        "         color='blue',        # color: Cor da linha.\n",
        "         linestyle='-',       # linestyle: Estilo da linha (sólido, pontilhado, etc.).\n",
        "         linewidth=2)         # linewidth: Espessura da linha.\n",
        "\n",
        "\n",
        "# Adiciona um título ao gráfico.\n",
        "plt.title('Gráfico de Seno', fontsize=16, fontweight='bold')\n",
        "\n",
        "\n",
        "# Adicionam rótulos aos eixos x e y, respectivamente.\n",
        "plt.xlabel('Valor de x', fontsize=14)\n",
        "plt.ylabel('Valor de sin(x)', fontsize=14)\n",
        "\n",
        "\n",
        "# Adiciona uma grade ao gráfico. É possível ajustar o estilo e a transparência.\n",
        "plt.grid(True, linestyle='--', alpha=0.7)\n",
        "\n",
        "\n",
        "# Adiciona uma legenda ao gráfico, que explica o que cada linha representa.\n",
        "plt.legend(loc='upper right', fontsize=12)\n",
        "\n",
        "\n",
        "# Definem os limites dos eixos x e y.\n",
        "plt.xlim(0, 10)\n",
        "plt.ylim(-1.5, 1.5)\n",
        "\n",
        "\n",
        "# Ajustam o tamanho das marcas nos eixos.\n",
        "plt.xticks(fontsize=12)\n",
        "plt.yticks(fontsize=12)\n",
        "\n",
        "\n",
        "# Permite adicionar anotações ao gráfico, como comentários ou marcas em pontos específicos.\n",
        "plt.annotate('Ponto máximo', xy=(np.pi/2, 1), xytext=(np.pi/2 + 1, 1.2),\n",
        "             arrowprops=dict(facecolor='black', arrowstyle='->'), fontsize=12)\n",
        "\n",
        "\n",
        "# Exibe o gráfico final.\n",
        "plt.show()"
      ],
      "metadata": {
        "id": "MjgHaxiTtket"
      },
      "execution_count": null,
      "outputs": []
    },
    {
      "cell_type": "markdown",
      "source": [
        "## **Exemplos**"
      ],
      "metadata": {
        "id": "TzpWOrJXuFgE"
      }
    },
    {
      "cell_type": "code",
      "source": [
        "plt.figure(figsize=(10, 6))\n",
        "plt.bar(df['YEAR'], df['GOALS SCORED'], color='green', alpha=0.7)\n",
        "\n",
        "plt.title('Total de Gols Marcados por Copa do Mundo')\n",
        "plt.xlabel('Ano da Copa do Mundo')\n",
        "plt.ylabel('Gols Marcados')\n",
        "plt.xticks(rotation=45)\n",
        "plt.grid(axis='y')\n",
        "\n",
        "plt.show()"
      ],
      "metadata": {
        "id": "irabNNlHsfaP",
        "collapsed": true
      },
      "execution_count": null,
      "outputs": []
    },
    {
      "cell_type": "code",
      "source": [
        "df['AVG GOALS'] = df['GOALS SCORED'] / df['MATCHES PLAYED']\n",
        "\n",
        "plt.figure(figsize=(15, 6))\n",
        "plt.plot(df['YEAR'], df['AVG GOALS'], marker='o', color='purple')\n",
        "\n",
        "plt.title('Média de Gols por Jogo ao Longo dos Anos')\n",
        "plt.xlabel('Ano da Copa do Mundo')\n",
        "plt.ylabel('Média de Gols por Jogo')\n",
        "plt.grid()\n",
        "\n",
        "plt.show()"
      ],
      "metadata": {
        "id": "lZ5RPzjZuYU0",
        "collapsed": true
      },
      "execution_count": null,
      "outputs": []
    },
    {
      "cell_type": "markdown",
      "source": [
        "# **Plotly Express**"
      ],
      "metadata": {
        "id": "YSAtAbaS0gSc"
      }
    },
    {
      "cell_type": "markdown",
      "source": [
        "## **Propriedades**"
      ],
      "metadata": {
        "id": "Z69p4zCI1Eky"
      }
    },
    {
      "cell_type": "code",
      "source": [
        "x = np.linspace(0, 10, 100)  # Valores de x de 0 a 10\n",
        "y = np.sin(x)                 # Valores de y como seno de x\n",
        "\n",
        "# Criando um DataFrame para Plotly\n",
        "data = pd.DataFrame({'x': x, 'y': y})\n",
        "\n",
        "fig = px.line(data,                  # Dados a serem plotados\n",
        "               x='x',                # Coluna para o eixo x\n",
        "               y='y',                # Coluna para o eixo y\n",
        "               title='Gráfico de Seno',  # Título do gráfico\n",
        "               labels={'x': 'Valor de x', 'y': 'Valor de sin(x)'},  # Rótulos dos eixos\n",
        "               line_shape='linear')   # Forma da linha (linear, spline, etc.)\n",
        "\n",
        "# Adicionando a legenda e personalizando a linha\n",
        "fig.update_traces(name='Seno',                # Nome da linha na legenda\n",
        "                  line=dict(color='blue',     # Cor da linha\n",
        "                            width=2))          # Largura da linha\n",
        "\n",
        "# Adicionando título e rótulos\n",
        "fig.update_layout(title=dict(text='Gráfico de Seno',  # Título do gráfico\n",
        "                              font=dict(size=16,    # Tamanho da fonte\n",
        "                                        family='Arial', # Família da fonte\n",
        "                                        color='black')), # Cor da fonte\n",
        "                  xaxis_title='Valor de x',      # Rótulo do eixo x\n",
        "                  yaxis_title='Valor de sin(x)', # Rótulo do eixo y\n",
        "                  xaxis=dict(tickfont=dict(size=12)),  # Tamanho da fonte das marcas do eixo x\n",
        "                  yaxis=dict(tickfont=dict(size=12)),  # Tamanho da fonte das marcas do eixo y\n",
        "                  showlegend=True)               # Exibe a legenda\n",
        "\n",
        "# Adicionando uma anotação\n",
        "fig.add_annotation(x=np.pi/2, y=1,                # Coordenadas da anotação\n",
        "                   text='Ponto máximo',          # Texto da anotação\n",
        "                   showarrow=True,               # Exibe uma seta\n",
        "                   arrowhead=2,                  # Estilo da seta\n",
        "                   ax=0, ay=-40)                 # Offset da anotação\n",
        "\n",
        "# Exibindo o gráfico\n",
        "fig.show()"
      ],
      "metadata": {
        "id": "miGJaumL0jHT"
      },
      "execution_count": null,
      "outputs": []
    },
    {
      "cell_type": "markdown",
      "source": [
        "## **Exemplos**"
      ],
      "metadata": {
        "id": "-0NJ0Nni1eVq"
      }
    },
    {
      "cell_type": "code",
      "source": [
        "fig_gols = px.bar(df,\n",
        "                  x='YEAR',\n",
        "                  y='GOALS SCORED',\n",
        "                  title='Total de Gols Marcados por Copa do Mundo',\n",
        "                  color_discrete_sequence=['green'])\n",
        "\n",
        "fig_gols.update_layout(\n",
        "    xaxis_title='Ano da Copa do Mundo',\n",
        "    yaxis_title='Gols Marcados',\n",
        "    xaxis_tickangle=-45,\n",
        "    yaxis=dict(showgrid=True),\n",
        ")\n",
        "\n",
        "fig_gols.show()"
      ],
      "metadata": {
        "id": "UiO1v3RN1gAC",
        "collapsed": true
      },
      "execution_count": null,
      "outputs": []
    },
    {
      "cell_type": "code",
      "source": [
        "df['AVG GOALS PER GAME'] = df['GOALS SCORED'] / df['MATCHES PLAYED']\n",
        "\n",
        "fig = px.line(df,\n",
        "              x='YEAR',\n",
        "              y='AVG GOALS PER GAME',\n",
        "              title='Evolução da Média de Gols por Jogo nas Copas do Mundo',\n",
        "              markers=True,\n",
        "              color_discrete_sequence=['purple'])\n",
        "\n",
        "fig.update_layout(\n",
        "    xaxis_title='Ano da Copa do Mundo',\n",
        "    yaxis_title='Média de Gols por Jogo',\n",
        "    xaxis_tickangle=-45,\n",
        "    plot_bgcolor='rgba(0,0,0,0)',\n",
        "    hovermode='x unified'\n",
        ")\n",
        "\n",
        "fig.show()"
      ],
      "metadata": {
        "id": "AGc4iJYo14aC",
        "collapsed": true
      },
      "execution_count": null,
      "outputs": []
    },
    {
      "cell_type": "markdown",
      "source": [
        "# **Desafio**"
      ],
      "metadata": {
        "id": "5UY-iIVx3LOQ"
      }
    },
    {
      "cell_type": "code",
      "source": [
        "campeoes_count = df['CHAMPION'].value_counts().head(5)"
      ],
      "metadata": {
        "id": "QglT172C3ODZ"
      },
      "execution_count": null,
      "outputs": []
    }
  ]
}