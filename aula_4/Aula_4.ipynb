{
  "cells": [
    {
      "cell_type": "markdown",
      "metadata": {
        "id": "aHw4KAqroUjM"
      },
      "source": [
        "# **Instalar as bibliotecas**\n"
      ]
    },
    {
      "cell_type": "code",
      "execution_count": null,
      "metadata": {
        "id": "gjtWGElboNlE"
      },
      "outputs": [],
      "source": [
        "!pip install pandas"
      ]
    },
    {
      "cell_type": "code",
      "execution_count": null,
      "metadata": {
        "id": "9810hrxLouN8"
      },
      "outputs": [],
      "source": [
        "!pip install matplotlib"
      ]
    },
    {
      "cell_type": "code",
      "execution_count": null,
      "metadata": {
        "id": "0yFl3kM5ou8j"
      },
      "outputs": [],
      "source": [
        "!pip install plotly"
      ]
    },
    {
      "cell_type": "markdown",
      "metadata": {
        "id": "UyZv6ADrpTsb"
      },
      "source": [
        "# **Importar as bibliotecas**\n"
      ]
    },
    {
      "cell_type": "code",
      "execution_count": null,
      "metadata": {
        "id": "GD-BI8ebpXba"
      },
      "outputs": [],
      "source": [
        "import pandas as pd\n",
        "import matplotlib.pyplot as plt\n",
        "import plotly.express as px"
      ]
    },
    {
      "cell_type": "markdown",
      "metadata": {
        "id": "MEjjaZMoo-eb"
      },
      "source": [
        "# **Importar dados**\n"
      ]
    },
    {
      "cell_type": "markdown",
      "metadata": {
        "id": "MlPYanDVXof1"
      },
      "source": [
        "**O arquivo csv está no drive junto da aula, para rodar essa célula é necessário upar o csv aqui no colab**\n"
      ]
    },
    {
      "cell_type": "code",
      "execution_count": null,
      "metadata": {
        "id": "C3LykceXpBz6"
      },
      "outputs": [],
      "source": [
        "df = pd.read_csv(\n",
        "    \"https://raw.githubusercontent.com/dudu-soliveira/pijr-trainee-2024-2/refs/heads/main/aula_4/CopaDoMundo.csv\"\n",
        ")"
      ]
    },
    {
      "cell_type": "markdown",
      "metadata": {
        "id": "iwDw3pKxrtrA"
      },
      "source": [
        "# **Entender os dados**\n"
      ]
    },
    {
      "cell_type": "code",
      "execution_count": null,
      "metadata": {
        "id": "TLOxH4sgrxFY"
      },
      "outputs": [],
      "source": [
        "df.columns"
      ]
    },
    {
      "cell_type": "code",
      "execution_count": null,
      "metadata": {
        "id": "ZcBnsrYOr5Qv"
      },
      "outputs": [],
      "source": [
        "df.head()"
      ]
    },
    {
      "cell_type": "code",
      "execution_count": null,
      "metadata": {
        "id": "mnWVQmg-sHWn"
      },
      "outputs": [],
      "source": [
        "df.describe()"
      ]
    },
    {
      "cell_type": "markdown",
      "metadata": {
        "id": "JCk5W4Cksbin"
      },
      "source": [
        "# **Matplotlib**\n"
      ]
    },
    {
      "cell_type": "markdown",
      "metadata": {
        "id": "TcDC4BcBs8Ft"
      },
      "source": [
        "## **Propriedades**\n"
      ]
    },
    {
      "cell_type": "code",
      "execution_count": null,
      "metadata": {
        "id": "MjgHaxiTtket"
      },
      "outputs": [],
      "source": [
        "import numpy as np\n",
        "\n",
        "x = np.linspace(0, 10, 100)  # Valores de x de 0 a 10\n",
        "y = np.sin(x)  # Valores de y como seno de x\n",
        "\n",
        "\n",
        "# Define o tamanho da figura do gráfico.\n",
        "plt.figure(figsize=(10, 6))\n",
        "\n",
        "\n",
        "# Plota os dados. Aqui, estamos usando:\n",
        "plt.plot(\n",
        "    x,\n",
        "    y,  # Dados a serem plotados\n",
        "    label=\"Seno\",  # label: Nome para a legenda.\n",
        "    color=\"blue\",  # color: Cor da linha.\n",
        "    linestyle=\"-\",  # linestyle: Estilo da linha (sólido, pontilhado, etc.).\n",
        "    linewidth=2,\n",
        ")  # linewidth: Espessura da linha.\n",
        "\n",
        "\n",
        "# Adiciona um título ao gráfico.\n",
        "plt.title(\"Gráfico de Seno\", fontsize=16, fontweight=\"bold\")\n",
        "\n",
        "\n",
        "# Adicionam rótulos aos eixos x e y, respectivamente.\n",
        "plt.xlabel(\"Valor de x\", fontsize=14)\n",
        "plt.ylabel(\"Valor de sin(x)\", fontsize=14)\n",
        "\n",
        "\n",
        "# Adiciona uma grade ao gráfico. É possível ajustar o estilo e a transparência.\n",
        "plt.grid(True, linestyle=\"--\", alpha=0.7)\n",
        "\n",
        "\n",
        "# Adiciona uma legenda ao gráfico, que explica o que cada linha representa.\n",
        "plt.legend(loc=\"upper right\", fontsize=12)\n",
        "\n",
        "\n",
        "# Definem os limites dos eixos x e y.\n",
        "plt.xlim(0, 10)\n",
        "plt.ylim(-1.5, 1.5)\n",
        "\n",
        "\n",
        "# Ajustam o tamanho das marcas nos eixos.\n",
        "plt.xticks(fontsize=12)\n",
        "plt.yticks(fontsize=12)\n",
        "\n",
        "\n",
        "# Permite adicionar anotações ao gráfico, como comentários ou marcas em pontos específicos.\n",
        "plt.annotate(\n",
        "    \"Ponto máximo\",\n",
        "    xy=(np.pi / 2, 1),\n",
        "    xytext=(np.pi / 2 + 1, 1.2),\n",
        "    arrowprops=dict(facecolor=\"black\", arrowstyle=\"->\"),\n",
        "    fontsize=12,\n",
        ")\n",
        "\n",
        "\n",
        "# Exibe o gráfico final.\n",
        "plt.show()"
      ]
    },
    {
      "cell_type": "markdown",
      "metadata": {
        "id": "TzpWOrJXuFgE"
      },
      "source": [
        "## **Exemplos**\n"
      ]
    },
    {
      "cell_type": "code",
      "execution_count": null,
      "metadata": {
        "collapsed": true,
        "id": "irabNNlHsfaP"
      },
      "outputs": [],
      "source": [
        "plt.figure(figsize=(10, 6))\n",
        "plt.bar(df[\"YEAR\"], df[\"GOALS SCORED\"], color=\"green\", alpha=0.7)\n",
        "\n",
        "plt.title(\"Total de Gols Marcados por Copa do Mundo\")\n",
        "plt.xlabel(\"Ano da Copa do Mundo\")\n",
        "plt.ylabel(\"Gols Marcados\")\n",
        "plt.xticks(rotation=45)\n",
        "plt.grid(axis=\"y\")\n",
        "\n",
        "plt.show()"
      ]
    },
    {
      "cell_type": "code",
      "execution_count": null,
      "metadata": {
        "collapsed": true,
        "id": "lZ5RPzjZuYU0"
      },
      "outputs": [],
      "source": [
        "df[\"AVG GOALS\"] = df[\"GOALS SCORED\"] / df[\"MATCHES PLAYED\"]\n",
        "\n",
        "plt.figure(figsize=(15, 6))\n",
        "plt.plot(df[\"YEAR\"], df[\"AVG GOALS\"], marker=\"o\", color=\"purple\")\n",
        "\n",
        "plt.title(\"Média de Gols por Jogo ao Longo dos Anos\")\n",
        "plt.xlabel(\"Ano da Copa do Mundo\")\n",
        "plt.ylabel(\"Média de Gols por Jogo\")\n",
        "plt.grid()\n",
        "\n",
        "plt.show()"
      ]
    },
    {
      "cell_type": "markdown",
      "metadata": {
        "id": "YSAtAbaS0gSc"
      },
      "source": [
        "# **Plotly Express**\n"
      ]
    },
    {
      "cell_type": "markdown",
      "metadata": {
        "id": "Z69p4zCI1Eky"
      },
      "source": [
        "## **Propriedades**\n"
      ]
    },
    {
      "cell_type": "code",
      "execution_count": null,
      "metadata": {
        "id": "miGJaumL0jHT"
      },
      "outputs": [],
      "source": [
        "x = np.linspace(0, 10, 100)  # Valores de x de 0 a 10\n",
        "y = np.sin(x)  # Valores de y como seno de x\n",
        "\n",
        "# Criando um DataFrame para Plotly\n",
        "data = pd.DataFrame({\"x\": x, \"y\": y})\n",
        "\n",
        "fig = px.line(\n",
        "    data,  # Dados a serem plotados\n",
        "    x=\"x\",  # Coluna para o eixo x\n",
        "    y=\"y\",  # Coluna para o eixo y\n",
        "    title=\"Gráfico de Seno\",  # Título do gráfico\n",
        "    labels={\"x\": \"Valor de x\", \"y\": \"Valor de sin(x)\"},  # Rótulos dos eixos\n",
        "    line_shape=\"linear\",\n",
        ")  # Forma da linha (linear, spline, etc.)\n",
        "\n",
        "# Adicionando a legenda e personalizando a linha\n",
        "fig.update_traces(\n",
        "    name=\"Seno\",  # Nome da linha na legenda\n",
        "    line=dict(\n",
        "        color=\"blue\",  # Cor da linha\n",
        "        width=2,\n",
        "    ),\n",
        ")  # Largura da linha\n",
        "\n",
        "# Adicionando título e rótulos\n",
        "fig.update_layout(\n",
        "    title=dict(\n",
        "        text=\"Gráfico de Seno\",  # Título do gráfico\n",
        "        font=dict(\n",
        "            size=16,  # Tamanho da fonte\n",
        "            family=\"Arial\",  # Família da fonte\n",
        "            color=\"black\",\n",
        "        ),\n",
        "    ),  # Cor da fonte\n",
        "    xaxis_title=\"Valor de x\",  # Rótulo do eixo x\n",
        "    yaxis_title=\"Valor de sin(x)\",  # Rótulo do eixo y\n",
        "    xaxis=dict(tickfont=dict(size=12)),  # Tamanho da fonte das marcas do eixo x\n",
        "    yaxis=dict(tickfont=dict(size=12)),  # Tamanho da fonte das marcas do eixo y\n",
        "    showlegend=True,\n",
        ")  # Exibe a legenda\n",
        "\n",
        "# Adicionando uma anotação\n",
        "fig.add_annotation(\n",
        "    x=np.pi / 2,\n",
        "    y=1,  # Coordenadas da anotação\n",
        "    text=\"Ponto máximo\",  # Texto da anotação\n",
        "    showarrow=True,  # Exibe uma seta\n",
        "    arrowhead=2,  # Estilo da seta\n",
        "    ax=0,\n",
        "    ay=-40,\n",
        ")  # Offset da anotação\n",
        "\n",
        "# Exibindo o gráfico\n",
        "fig.show()"
      ]
    },
    {
      "cell_type": "markdown",
      "metadata": {
        "id": "-0NJ0Nni1eVq"
      },
      "source": [
        "## **Exemplos**\n"
      ]
    },
    {
      "cell_type": "code",
      "execution_count": null,
      "metadata": {
        "collapsed": true,
        "id": "UiO1v3RN1gAC"
      },
      "outputs": [],
      "source": [
        "fig_gols = px.bar(\n",
        "    df,\n",
        "    x=\"YEAR\",\n",
        "    y=\"GOALS SCORED\",\n",
        "    title=\"Total de Gols Marcados por Copa do Mundo\",\n",
        "    color_discrete_sequence=[\"green\"],\n",
        ")\n",
        "\n",
        "fig_gols.update_layout(\n",
        "    xaxis_title=\"Ano da Copa do Mundo\",\n",
        "    yaxis_title=\"Gols Marcados\",\n",
        "    xaxis_tickangle=-45,\n",
        "    yaxis=dict(showgrid=True),\n",
        ")\n",
        "\n",
        "fig_gols.show()"
      ]
    },
    {
      "cell_type": "code",
      "execution_count": null,
      "metadata": {
        "collapsed": true,
        "id": "AGc4iJYo14aC"
      },
      "outputs": [],
      "source": [
        "df[\"AVG GOALS PER GAME\"] = df[\"GOALS SCORED\"] / df[\"MATCHES PLAYED\"]\n",
        "\n",
        "fig = px.line(\n",
        "    df,\n",
        "    x=\"YEAR\",\n",
        "    y=\"AVG GOALS PER GAME\",\n",
        "    title=\"Evolução da Média de Gols por Jogo nas Copas do Mundo\",\n",
        "    markers=True,\n",
        "    color_discrete_sequence=[\"purple\"],\n",
        ")\n",
        "\n",
        "fig.update_layout(\n",
        "    xaxis_title=\"Ano da Copa do Mundo\",\n",
        "    yaxis_title=\"Média de Gols por Jogo\",\n",
        "    xaxis_tickangle=-45,\n",
        "    plot_bgcolor=\"rgba(0,0,0,0)\",\n",
        "    hovermode=\"x unified\",\n",
        ")\n",
        "\n",
        "fig.show()"
      ]
    },
    {
      "cell_type": "markdown",
      "metadata": {
        "id": "5UY-iIVx3LOQ"
      },
      "source": [
        "# **Desafio**\n"
      ]
    },
    {
      "cell_type": "code",
      "execution_count": null,
      "metadata": {
        "id": "QglT172C3ODZ"
      },
      "outputs": [],
      "source": [
        "campeoes_count = df[\"CHAMPION\"].value_counts().head(5)"
      ]
    }
  ],
  "metadata": {
    "colab": {
      "collapsed_sections": [
        "aHw4KAqroUjM",
        "UyZv6ADrpTsb",
        "MEjjaZMoo-eb",
        "iwDw3pKxrtrA",
        "JCk5W4Cksbin",
        "TcDC4BcBs8Ft",
        "TzpWOrJXuFgE",
        "YSAtAbaS0gSc",
        "Z69p4zCI1Eky",
        "-0NJ0Nni1eVq",
        "5UY-iIVx3LOQ"
      ],
      "provenance": []
    },
    "kernelspec": {
      "display_name": "Python 3",
      "name": "python3"
    },
    "language_info": {
      "name": "python"
    }
  },
  "nbformat": 4,
  "nbformat_minor": 0
}
