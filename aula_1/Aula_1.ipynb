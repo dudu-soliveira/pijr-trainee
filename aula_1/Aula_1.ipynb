{
  "cells": [
    {
      "cell_type": "markdown",
      "metadata": {
        "id": "m3HRaib6dTEY"
      },
      "source": [
        "## **Aula: Python para Análise e Automação de Dados**\n",
        "\n",
        "---\n",
        "\n",
        "## **O que é um notebook**\n",
        "\n",
        "Um Notebook é uma ferramenta usada para escrever e executar código de forma modular. Ele permite escrever trechos de código e visualizar saídas, facilitando o desenvolvimento.\n",
        "\n",
        "-Jupyter\n",
        "\n",
        "-Google Colab\n"
      ]
    },
    {
      "cell_type": "markdown",
      "metadata": {
        "id": "f483CCQyh91l"
      },
      "source": [
        "## **Comandos Básicos**\n"
      ]
    },
    {
      "cell_type": "code",
      "execution_count": null,
      "metadata": {
        "id": "r_aoLr64dh2V"
      },
      "outputs": [],
      "source": [
        "# Comentário"
      ]
    },
    {
      "cell_type": "code",
      "execution_count": null,
      "metadata": {
        "colab": {
          "base_uri": "https://localhost:8080/"
        },
        "id": "daAymZPgik1E",
        "outputId": "dec280b1-4dce-4b7f-b68c-0eebaf044826"
      },
      "outputs": [],
      "source": [
        "# IMPRESSÃO\n",
        "\n",
        "print(\"Hello World\")"
      ]
    },
    {
      "cell_type": "code",
      "execution_count": null,
      "metadata": {
        "colab": {
          "base_uri": "https://localhost:8080/"
        },
        "id": "5LaNr74Iit4e",
        "outputId": "b7f82bd5-7266-4ab7-d953-2ae67e5aa1c9"
      },
      "outputs": [],
      "source": [
        "print(\"Hello\" + \" \" + \"World\")"
      ]
    },
    {
      "cell_type": "code",
      "execution_count": null,
      "metadata": {
        "colab": {
          "base_uri": "https://localhost:8080/"
        },
        "id": "pa0IJHpqjEyl",
        "outputId": "fcdc5d05-65ee-40cb-8a61-f99f18d3b467"
      },
      "outputs": [],
      "source": [
        "7 + 6"
      ]
    },
    {
      "cell_type": "code",
      "execution_count": null,
      "metadata": {
        "colab": {
          "base_uri": "https://localhost:8080/"
        },
        "id": "10nm4r8TjI1E",
        "outputId": "a768cb12-9846-47ea-e332-10c7d5cf5dd4"
      },
      "outputs": [],
      "source": [
        "7 - 6"
      ]
    },
    {
      "cell_type": "code",
      "execution_count": null,
      "metadata": {
        "id": "4Wiyi_-F-d2R"
      },
      "outputs": [],
      "source": []
    },
    {
      "cell_type": "markdown",
      "metadata": {
        "id": "UF28Vpw3-fYB"
      },
      "source": []
    },
    {
      "cell_type": "code",
      "execution_count": null,
      "metadata": {
        "id": "2xsNNlqxjK_n"
      },
      "outputs": [],
      "source": [
        "7 * 6"
      ]
    },
    {
      "cell_type": "code",
      "execution_count": null,
      "metadata": {
        "id": "oRTLdUDIjNmR"
      },
      "outputs": [],
      "source": [
        "42 / 6"
      ]
    },
    {
      "cell_type": "code",
      "execution_count": null,
      "metadata": {
        "colab": {
          "base_uri": "https://localhost:8080/"
        },
        "id": "p2MBN3Z0jRKm",
        "outputId": "08024416-f348-421a-f55c-2f5592df14e2"
      },
      "outputs": [],
      "source": [
        "7**2"
      ]
    },
    {
      "cell_type": "code",
      "execution_count": null,
      "metadata": {
        "colab": {
          "base_uri": "https://localhost:8080/"
        },
        "id": "VyOGDyW0jUSl",
        "outputId": "c43eb7d6-9f79-4abf-a11d-df231af71505"
      },
      "outputs": [],
      "source": [
        "7 // 2"
      ]
    },
    {
      "cell_type": "code",
      "execution_count": null,
      "metadata": {
        "colab": {
          "base_uri": "https://localhost:8080/"
        },
        "id": "8cIlKh8-jZuN",
        "outputId": "622508c7-e609-4fa7-dbd0-62905a05625e"
      },
      "outputs": [],
      "source": [
        "7 % 2"
      ]
    },
    {
      "cell_type": "markdown",
      "metadata": {
        "id": "n7ZPUxetjsed"
      },
      "source": [
        "## **Tipos de Variáveis**\n"
      ]
    },
    {
      "cell_type": "code",
      "execution_count": null,
      "metadata": {
        "colab": {
          "base_uri": "https://localhost:8080/"
        },
        "id": "S1B5r6Ckj864",
        "outputId": "61087037-c1e1-4a57-e1da-993757d44795"
      },
      "outputs": [],
      "source": [
        "# INTEIROS\n",
        "\n",
        "a = 7\n",
        "print(type(a))"
      ]
    },
    {
      "cell_type": "code",
      "execution_count": null,
      "metadata": {
        "colab": {
          "base_uri": "https://localhost:8080/"
        },
        "id": "6i4Xt0s-j_2-",
        "outputId": "f978d8d7-caac-499c-b4fe-ea1e68797d73"
      },
      "outputs": [],
      "source": [
        "# PONTO FLUTUANTE (FLOAT)\n",
        "\n",
        "a = 3.14\n",
        "print(type(a))"
      ]
    },
    {
      "cell_type": "code",
      "execution_count": null,
      "metadata": {
        "colab": {
          "base_uri": "https://localhost:8080/"
        },
        "id": "Gi4cIJxgkOqH",
        "outputId": "e583fc91-804c-4589-d818-c5e457532881"
      },
      "outputs": [],
      "source": [
        "# STRING\n",
        "\n",
        "a = \"A PI é demais!\"\n",
        "print(type(a))\n",
        "print(a)"
      ]
    },
    {
      "cell_type": "code",
      "execution_count": null,
      "metadata": {
        "colab": {
          "base_uri": "https://localhost:8080/"
        },
        "id": "Kgiw3RuUkbdH",
        "outputId": "1e95e3bb-e4a2-4f85-88ad-83762257a6ab"
      },
      "outputs": [],
      "source": [
        "# BOOLEANO\n",
        "\n",
        "isActive = True\n",
        "print(type(isActive))\n",
        "print(isActive)"
      ]
    },
    {
      "cell_type": "markdown",
      "metadata": {
        "id": "E_ufpy8Mk7gf"
      },
      "source": [
        "**Listas e Dicionários**\n",
        "\n",
        "Listas: Estruturas de dados que armazenam uma coleção de itens de diferentes tipos (mutável).\n",
        "\n",
        "Tuplas: Semelhantes às listas, mas são imutáveis (não podem ser alteradas após a criação).\n",
        "\n",
        "Dicionários: Servem para criar uma lista de valores com rótulo. SEmpre terá chaves e valores relacionados\n"
      ]
    },
    {
      "cell_type": "markdown",
      "metadata": {
        "id": "buCr4CGRm2oL"
      },
      "source": [
        "## **LISTAS**\n"
      ]
    },
    {
      "cell_type": "code",
      "execution_count": null,
      "metadata": {
        "colab": {
          "base_uri": "https://localhost:8080/"
        },
        "id": "uFNncmiwluDc",
        "outputId": "5800fd53-d72c-4d56-a83d-0a4d8f2e5d99"
      },
      "outputs": [],
      "source": [
        "frutas = [\"maçã\", \"banana\", \"laranja\"]\n",
        "numeros = [1, 2, 3, 4, 5]\n",
        "misturada = [\"Python\", 3.14, True]\n",
        "\n",
        "print(misturada[0])"
      ]
    },
    {
      "cell_type": "code",
      "execution_count": null,
      "metadata": {
        "colab": {
          "base_uri": "https://localhost:8080/"
        },
        "id": "GgWlcwQ4mIR4",
        "outputId": "ba91bf9a-2b60-43de-972e-3cd46d631233"
      },
      "outputs": [],
      "source": [
        "# ADIÇÃO NAS LISTAS\n",
        "\n",
        "frutas.append(\"uva\")\n",
        "print(frutas)\n"
      ]
    },
    {
      "cell_type": "code",
      "execution_count": null,
      "metadata": {
        "colab": {
          "base_uri": "https://localhost:8080/"
        },
        "id": "OAsLqVLlmLrd",
        "outputId": "3dfdde09-9c1f-48f3-e17f-006422ab9a0c"
      },
      "outputs": [],
      "source": [
        "# ADIÇÃO EM UMA PARTE ESPECÍFICA\n",
        "\n",
        "frutas.insert(1, \"morango\")\n",
        "print(frutas)"
      ]
    },
    {
      "cell_type": "code",
      "execution_count": null,
      "metadata": {
        "colab": {
          "base_uri": "https://localhost:8080/"
        },
        "id": "W1I4rraHmiqQ",
        "outputId": "2d5235a8-dbb7-4a3b-80de-c69cad99009a"
      },
      "outputs": [],
      "source": [
        "# REMOÇÃO\n",
        "\n",
        "frutas.remove(\"banana\")\n",
        "print(frutas)"
      ]
    },
    {
      "cell_type": "code",
      "execution_count": null,
      "metadata": {
        "colab": {
          "base_uri": "https://localhost:8080/"
        },
        "id": "dVvx-RlFn_S5",
        "outputId": "af992cf1-05f3-44bd-8edb-4b43f3fa2c4c"
      },
      "outputs": [],
      "source": [
        "# POP\n",
        "\n",
        "ultima_fruta = frutas.pop()  # Remove e retorna o último elemento\n",
        "print(ultima_fruta)\n",
        "print(frutas)"
      ]
    },
    {
      "cell_type": "markdown",
      "metadata": {
        "id": "xlvkXjzZm5av"
      },
      "source": [
        "## **DICIONÁRIOS**\n"
      ]
    },
    {
      "cell_type": "code",
      "execution_count": null,
      "metadata": {
        "id": "L8qIu-Xtm7me"
      },
      "outputs": [],
      "source": [
        "pessoa = {\"nome\": \"Ana\", \"idade\": 25, \"cidade\": \"São Paulo\"}"
      ]
    },
    {
      "cell_type": "code",
      "execution_count": null,
      "metadata": {
        "colab": {
          "base_uri": "https://localhost:8080/"
        },
        "id": "vUlkPTLNnCIb",
        "outputId": "6009e9aa-d68d-4bf1-8734-2aa6f503b88a"
      },
      "outputs": [],
      "source": [
        "# ACESSANDO VALORES\n",
        "\n",
        "nomePessoa = pessoa[\"nome\"]\n",
        "print(nomePessoa)\n"
      ]
    },
    {
      "cell_type": "code",
      "execution_count": null,
      "metadata": {
        "colab": {
          "base_uri": "https://localhost:8080/"
        },
        "id": "cZP-2LT-nb7o",
        "outputId": "84fc34b8-2679-47b7-98ff-78f14508f1d6"
      },
      "outputs": [],
      "source": [
        "# GET\n",
        "\n",
        "idade = pessoa.get(\"idade\")\n",
        "print(idade)\n",
        "profissao = pessoa.get(\"profissao\", \"Desconhecido\")\n",
        "print(profissao)"
      ]
    },
    {
      "cell_type": "code",
      "execution_count": null,
      "metadata": {
        "id": "U1ou2BVPn17R"
      },
      "outputs": [],
      "source": [
        "pessoa[\"profissao\"] = \"Engenheira\"  # Adiciona nova chave\n",
        "pessoa[\"idade\"] = 26  # Atualiza o valor da chave \"idade\"\n"
      ]
    },
    {
      "cell_type": "code",
      "execution_count": null,
      "metadata": {
        "colab": {
          "base_uri": "https://localhost:8080/"
        },
        "id": "DaDx-ELxoQeE",
        "outputId": "3dc7eacd-08c0-465c-c5b2-e90c735aa159"
      },
      "outputs": [],
      "source": [
        "pessoa.pop(\"cidade\")  # Pode usar também o del\n",
        "print(pessoa)"
      ]
    },
    {
      "cell_type": "markdown",
      "metadata": {
        "id": "jL5KcyyJrITj"
      },
      "source": [
        "## **Controle de Fluxo**\n",
        "\n",
        "As estruturas de controle de fluxo permitem que você controle como o código é executado com base em condições e repetições.\n",
        "\n",
        "Condicionais: if, elif, else\n"
      ]
    },
    {
      "cell_type": "code",
      "execution_count": null,
      "metadata": {
        "colab": {
          "base_uri": "https://localhost:8080/",
          "height": 110
        },
        "id": "hnRjs1-sriY6",
        "outputId": "22591f0e-3b5d-484f-999e-77d096f111eb"
      },
      "outputs": [],
      "source": [
        "#EXEMPLO\n",
        "\n",
        "if condição:\n",
        "    # Bloco de código executado se a condição for verdadeira\n",
        "elif outra_condição:\n",
        "    # Bloco executado se a outra_condição for verdadeira\n",
        "else:\n",
        "    # Bloco executado se nenhuma das condições anteriores for verdadeira\n"
      ]
    },
    {
      "cell_type": "code",
      "execution_count": null,
      "metadata": {
        "colab": {
          "base_uri": "https://localhost:8080/"
        },
        "id": "d11AJWOaro7E",
        "outputId": "d6b57c10-28c2-4e62-d0e0-909d22cd1362"
      },
      "outputs": [],
      "source": [
        "idade = 5\n",
        "\n",
        "if idade >= 18:\n",
        "    print(\"Você é maior de idade.\")\n",
        "elif idade < 18 and idade >= 12:\n",
        "    print(\"Você é adolescente.\")\n",
        "else:\n",
        "    print(\"Você é uma criança.\")\n"
      ]
    },
    {
      "cell_type": "markdown",
      "metadata": {
        "id": "-lpRPDU7rtEy"
      },
      "source": [
        "Repetição: for e while\n",
        "\n",
        "O for é usado para iterar sobre uma sequência de elementos (como listas, tuplas, strings).\n",
        "\n",
        "O while repete um bloco de código enquanto uma condição for verdadeira.\n"
      ]
    },
    {
      "cell_type": "code",
      "execution_count": null,
      "metadata": {
        "id": "GUeoCMIsr9zE"
      },
      "outputs": [],
      "source": [
        "for variavel in sequencia:\n",
        "\n",
        "    # Bloco de código executado para cada item da sequência\n"
      ]
    },
    {
      "cell_type": "code",
      "execution_count": null,
      "metadata": {
        "colab": {
          "base_uri": "https://localhost:8080/"
        },
        "id": "sjuk9fC2sSsI",
        "outputId": "e885c7da-3e29-4909-9c6a-64beb50137bb"
      },
      "outputs": [],
      "source": [
        "# EXEMPLO FOR\n",
        "\n",
        "frutas = [\"maçã\", \"banana\", \"laranja\"]\n",
        "for fruta in frutas:\n",
        "    print(fruta)\n",
        "\n",
        "# Não precisa nem abrir nem fechar, é baseado na indentação\n",
        "\n",
        "for i in range(5):\n",
        "    print(i)  # Imprime de 0 a 4\n"
      ]
    },
    {
      "cell_type": "code",
      "execution_count": null,
      "metadata": {
        "colab": {
          "base_uri": "https://localhost:8080/"
        },
        "id": "dhJn3-9isvrr",
        "outputId": "d7538581-0719-495f-a7c9-db8376c3055d"
      },
      "outputs": [],
      "source": [
        "# EXEMPLO WHILE\n",
        "\n",
        "contador = 0\n",
        "while contador < 5:\n",
        "    print(contador)\n",
        "    contador += 1\n"
      ]
    },
    {
      "cell_type": "markdown",
      "metadata": {
        "id": "ZpW1jC0YypWJ"
      },
      "source": [
        "## **Funções e Métodos**\n"
      ]
    },
    {
      "cell_type": "markdown",
      "metadata": {
        "id": "wYmBnTKOy4x0"
      },
      "source": [
        "O que são funções?\n",
        "Uma função é um bloco de código que executa uma tarefa específica e pode ser reutilizado em diferentes partes do programa. Funções ajudam a organizar o código, torná-lo mais modular e reutilizável.\n",
        "\n",
        "Como definir uma função\n",
        "As funções em Python são definidas usando a palavra-chave def, seguidas pelo nome da função e os parâmetros (opcionais) entre parênteses.\n"
      ]
    },
    {
      "cell_type": "code",
      "execution_count": null,
      "metadata": {
        "id": "gm0cGA9-zA0W"
      },
      "outputs": [],
      "source": [
        "#EXEMPLO\n",
        "\n",
        "def nome_funcao(param1, param2)\n",
        "\n",
        "    #bloco\n",
        "    return resultado"
      ]
    },
    {
      "cell_type": "code",
      "execution_count": null,
      "metadata": {
        "colab": {
          "base_uri": "https://localhost:8080/"
        },
        "id": "dWwvpnGLzOQG",
        "outputId": "5ff8074b-e1d9-4d76-a793-425b6340b918"
      },
      "outputs": [],
      "source": [
        "def saudacao(nome):\n",
        "    return f\"Olá, {nome}!\"\n",
        "\n",
        "\n",
        "print(saudacao(\"Carlos\"))"
      ]
    },
    {
      "cell_type": "markdown",
      "metadata": {
        "id": "kPJTuoS01Du8"
      },
      "source": [
        "Métodos são funções que estão associadas a objetos. Em Python, listas, strings, dicionários, e outros tipos de dados têm seus próprios métodos.\n"
      ]
    },
    {
      "cell_type": "code",
      "execution_count": null,
      "metadata": {
        "colab": {
          "base_uri": "https://localhost:8080/"
        },
        "id": "5tRwr3x51J1R",
        "outputId": "8226f539-540d-4b9d-9a50-d889d2870a42"
      },
      "outputs": [],
      "source": [
        "# EXEMPLO COM LISTAS\n",
        "\n",
        "frutas = [\"maçã\", \"banana\", \"laranja\"]\n",
        "frutas.append(\"uva\")  # O método \"append\" adiciona um item à lista\n",
        "print(frutas)\n"
      ]
    },
    {
      "cell_type": "code",
      "execution_count": null,
      "metadata": {
        "colab": {
          "base_uri": "https://localhost:8080/"
        },
        "id": "y_wH3FM51WUI",
        "outputId": "d0a13a13-1771-4e20-c982-201c42c34de4"
      },
      "outputs": [],
      "source": [
        "# EXEMPLO COM STRINGS\n",
        "\n",
        "texto = \"a pi junior é incrível\"\n",
        "texto_maiusculo = texto.upper()  # O método \"upper\" converte o texto para maiúsculas\n",
        "print(texto_maiusculo)\n"
      ]
    }
  ],
  "metadata": {
    "colab": {
      "provenance": []
    },
    "kernelspec": {
      "display_name": "Python 3",
      "name": "python3"
    },
    "language_info": {
      "name": "python"
    }
  },
  "nbformat": 4,
  "nbformat_minor": 0
}
